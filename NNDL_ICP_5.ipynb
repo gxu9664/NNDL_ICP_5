{
 "cells": [
  {
   "cell_type": "code",
   "execution_count": null,
   "id": "84240e21",
   "metadata": {},
   "outputs": [],
   "source": [
    "#Naive Bayes method"
   ]
  },
  {
   "cell_type": "code",
   "execution_count": 2,
   "id": "a85cd4e6",
   "metadata": {},
   "outputs": [],
   "source": [
    "import pandas as pd\n",
    "import numpy as np\n",
    "from sklearn.model_selection import train_test_split\n",
    "from sklearn.naive_bayes import GaussianNB\n",
    "from sklearn.svm import SVC\n",
    "from sklearn.metrics import accuracy_score, classification_report"
   ]
  },
  {
   "cell_type": "code",
   "execution_count": 3,
   "id": "5ce79b9b",
   "metadata": {},
   "outputs": [],
   "source": [
    "# Load the glass dataset\n",
    "glass_data = pd.read_csv(r\"C:/Users/Dell/Desktop/New folder/ucm/sem/5/nn/New folder/ICP5/glass.csv\")"
   ]
  },
  {
   "cell_type": "code",
   "execution_count": 4,
   "id": "f078d0a8",
   "metadata": {},
   "outputs": [],
   "source": [
    "# Split the data into features and target\n",
    "X = glass_data.iloc[:, :-1].values\n",
    "y = glass_data.iloc[:, -1].values"
   ]
  },
  {
   "cell_type": "code",
   "execution_count": 5,
   "id": "fa15c362",
   "metadata": {},
   "outputs": [],
   "source": [
    "# Split the data into training and testing sets\n",
    "X_train, X_test, y_train, y_test = train_test_split(X, y, test_size=0.2, random_state=42)"
   ]
  },
  {
   "cell_type": "code",
   "execution_count": 6,
   "id": "074b480c",
   "metadata": {},
   "outputs": [
    {
     "data": {
      "text/plain": [
       "GaussianNB()"
      ]
     },
     "execution_count": 6,
     "metadata": {},
     "output_type": "execute_result"
    }
   ],
   "source": [
    "# Train the GaussianNB model\n",
    "gnb = GaussianNB()\n",
    "gnb.fit(X_train, y_train)"
   ]
  },
  {
   "cell_type": "code",
   "execution_count": 7,
   "id": "85f7d904",
   "metadata": {},
   "outputs": [],
   "source": [
    "# Make predictions on the test set\n",
    "gnb_y_pred = gnb.predict(X_test)"
   ]
  },
  {
   "cell_type": "code",
   "execution_count": 8,
   "id": "b837f77a",
   "metadata": {},
   "outputs": [
    {
     "name": "stdout",
     "output_type": "stream",
     "text": [
      "GaussianNB Accuracy: 55.81%\n",
      "\n",
      "Naïve Bayes Classification Report:\n",
      "              precision    recall  f1-score   support\n",
      "\n",
      "           1       0.41      0.64      0.50        11\n",
      "           2       0.43      0.21      0.29        14\n",
      "           3       0.40      0.67      0.50         3\n",
      "           5       0.50      0.25      0.33         4\n",
      "           6       1.00      1.00      1.00         3\n",
      "           7       0.89      1.00      0.94         8\n",
      "\n",
      "    accuracy                           0.56        43\n",
      "   macro avg       0.60      0.63      0.59        43\n",
      "weighted avg       0.55      0.56      0.53        43\n",
      "\n"
     ]
    }
   ],
   "source": [
    "# Evaluate the model performance\n",
    "gnb_acc = accuracy_score(y_test, gnb_y_pred)\n",
    "print(\"GaussianNB Accuracy: {:.2f}%\".format(gnb_acc * 100))\n",
    "print(\"\\nNaïve Bayes Classification Report:\")\n",
    "print(classification_report(y_test, gnb_y_pred, zero_division=1))"
   ]
  },
  {
   "cell_type": "code",
   "execution_count": null,
   "id": "5e9c4d37",
   "metadata": {},
   "outputs": [],
   "source": [
    "#SVM method"
   ]
  },
  {
   "cell_type": "code",
   "execution_count": 9,
   "id": "0ade93b8",
   "metadata": {},
   "outputs": [],
   "source": [
    "import pandas as pd\n",
    "import numpy as np\n",
    "from sklearn.model_selection import train_test_split\n",
    "from sklearn.naive_bayes import GaussianNB\n",
    "from sklearn.svm import SVC\n",
    "from sklearn.metrics import accuracy_score, classification_report"
   ]
  },
  {
   "cell_type": "code",
   "execution_count": 10,
   "id": "ddf0d097",
   "metadata": {},
   "outputs": [],
   "source": [
    "# Load the glass dataset\n",
    "glass_data = pd.read_csv(r\"C:/Users/Dell/Desktop/New folder/ucm/sem/5/nn/New folder/ICP5/glass.csv\")"
   ]
  },
  {
   "cell_type": "code",
   "execution_count": 11,
   "id": "34c7b927",
   "metadata": {},
   "outputs": [],
   "source": [
    "# Split the data into features and target\n",
    "X = glass_data.iloc[:, :-1].values\n",
    "y = glass_data.iloc[:, -1].values"
   ]
  },
  {
   "cell_type": "code",
   "execution_count": 12,
   "id": "6edf3a28",
   "metadata": {},
   "outputs": [
    {
     "data": {
      "text/plain": [
       "SVC(kernel='linear')"
      ]
     },
     "execution_count": 12,
     "metadata": {},
     "output_type": "execute_result"
    }
   ],
   "source": [
    "# Split the data into training and testing sets\n",
    "X_train, X_test, y_train, y_test = train_test_split(X, y, test_size=0.2, random_state=42)\n",
    "svm = SVC(kernel='linear')\n",
    "svm.fit(X_train, y_train)"
   ]
  },
  {
   "cell_type": "code",
   "execution_count": 13,
   "id": "2673ac49",
   "metadata": {},
   "outputs": [],
   "source": [
    "# Make predictions on the test set\n",
    "svm_y_pred = svm.predict(X_test)"
   ]
  },
  {
   "cell_type": "code",
   "execution_count": 14,
   "id": "761f3765",
   "metadata": {},
   "outputs": [
    {
     "name": "stdout",
     "output_type": "stream",
     "text": [
      "SVM Accuracy: 74.42%\n",
      "\n",
      "SVM Classification Report:\n",
      "              precision    recall  f1-score   support\n",
      "\n",
      "           1       0.69      0.82      0.75        11\n",
      "           2       0.67      0.71      0.69        14\n",
      "           3       1.00      0.00      0.00         3\n",
      "           5       0.80      1.00      0.89         4\n",
      "           6       1.00      0.67      0.80         3\n",
      "           7       0.88      0.88      0.88         8\n",
      "\n",
      "    accuracy                           0.74        43\n",
      "   macro avg       0.84      0.68      0.67        43\n",
      "weighted avg       0.77      0.74      0.72        43\n",
      "\n"
     ]
    }
   ],
   "source": [
    "# Evaluate the model performance\n",
    "svm_acc = accuracy_score(y_test, svm_y_pred,)\n",
    "print(\"SVM Accuracy: {:.2f}%\".format(svm_acc * 100))\n",
    "print(\"\\nSVM Classification Report:\")\n",
    "print(classification_report(y_test, svm_y_pred, zero_division=1))"
   ]
  },
  {
   "cell_type": "code",
   "execution_count": null,
   "id": "aaaecce1",
   "metadata": {},
   "outputs": [],
   "source": [
    "# Which algorithm you got better accuracy? Can you justify why?"
   ]
  },
  {
   "cell_type": "raw",
   "id": "b559938e",
   "metadata": {},
   "source": [
    "By comparing both methods accuracy, linear SVM algorithm got more accuracy than the Naive Bayes algorithm. The algorithm performance is determined based on the specific dataset. Evaluated by their performance using appropriate matrics such as accuracy, precicion, recall and F1-score.These matrics helped to access the models ability to correctly classify instance freom different classes and handle class imbalances."
   ]
  }
 ],
 "metadata": {
  "kernelspec": {
   "display_name": "Python 3 (ipykernel)",
   "language": "python",
   "name": "python3"
  },
  "language_info": {
   "codemirror_mode": {
    "name": "ipython",
    "version": 3
   },
   "file_extension": ".py",
   "mimetype": "text/x-python",
   "name": "python",
   "nbconvert_exporter": "python",
   "pygments_lexer": "ipython3",
   "version": "3.9.13"
  }
 },
 "nbformat": 4,
 "nbformat_minor": 5
}
